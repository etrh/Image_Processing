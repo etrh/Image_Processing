{
  "nbformat": 4,
  "nbformat_minor": 0,
  "metadata": {
    "colab": {
      "name": "Peak_Area_Quantification.ipynb",
      "provenance": [],
      "collapsed_sections": [],
      "mount_file_id": "12fdwmAGoDKldgP1CltNs-xpP1tuF2zCv",
      "authorship_tag": "ABX9TyNgOfiC/FD/yG5Hf0c2PtO3",
      "include_colab_link": true
    },
    "kernelspec": {
      "name": "python3",
      "display_name": "Python 3"
    }
  },
  "cells": [
    {
      "cell_type": "markdown",
      "metadata": {
        "id": "view-in-github",
        "colab_type": "text"
      },
      "source": [
        "<a href=\"https://colab.research.google.com/github/etrh/Image_Processing/blob/main/Peak_Area_Quantification.ipynb\" target=\"_parent\"><img src=\"https://colab.research.google.com/assets/colab-badge.svg\" alt=\"Open In Colab\"/></a>"
      ]
    },
    {
      "cell_type": "markdown",
      "metadata": {
        "id": "Oo7oSRuCoq5m"
      },
      "source": [
        "**Aim**. calculate the total area under white peaks, so that peaks from different images can be quantified and compared. Dashed lines must not be included in the calculation of peak areas.\n",
        "\n",
        "![alt text](https://i.stack.imgur.com/SzocE.png)"
      ]
    },
    {
      "cell_type": "code",
      "metadata": {
        "id": "rnJCyEc6ogUe",
        "colab": {
          "base_uri": "https://localhost:8080/",
          "height": 395
        },
        "outputId": "aed3a55f-ac66-40d7-9db7-074c159fd09c"
      },
      "source": [
        "#### Let's do a few quick tests and get to know our dataset better\n",
        "\n",
        "from skimage import color, measure, filters, io\n",
        "import matplotlib.pyplot as plt\n",
        "\n",
        "sample_test_image = io.imread('https://i.stack.imgur.com/SzocE.png')\n",
        "\n",
        "sample_test_image = color.rgb2gray(sample_test_image)\n",
        "thresh = filters.threshold_otsu(sample_test_image)\n",
        "binary = sample_test_image > thresh\n",
        "contours = measure.find_contours(binary, 0.8)\n",
        "\n",
        "plt.figure()\n",
        "rcontour = contours[0]\n",
        "plt.plot(rcontour[:, 1], rcontour[:, 0], linewidth=3)\n",
        "plt.imshow(sample_test_image, interpolation='nearest', cmap='gray_r')\n",
        "plt.title('Contours')\n",
        "plt.axis('off')\n",
        "plt.show()\n",
        "\n",
        "import cv2\n",
        "import numpy as np\n",
        "from google.colab.patches import cv2_imshow\n",
        "\n",
        "def process_and_show(img):\n",
        "  gray = cv2.cvtColor(img,cv2.COLOR_RGB2GRAY)\n",
        "  ret,gray = cv2.threshold(gray,127,255,0)\n",
        "  gray2 = gray.copy()\n",
        "\n",
        "  contours, hier = cv2.findContours(gray,cv2.RETR_LIST,cv2.CHAIN_APPROX_SIMPLE)\n",
        "  for cnt in contours:\n",
        "    if not 200<cv2.contourArea(cnt)<5000:\n",
        "      (x,y,w,h) = cv2.boundingRect(cnt)\n",
        "      cv2.rectangle(gray2,(x,y),(x+w,y+h),0,-1)\n",
        "  \n",
        "  cv2_imshow(gray2)\n",
        "  cv2.waitKey(0)\n",
        "  cv2.destroyAllWindows()\n",
        "\n",
        "!wget -q https://i.stack.imgur.com/SzocE.png\n",
        "img = cv2.imread('SzocE.png')\n",
        "img_remove_axes = img.copy()\n",
        "img_remove_axes[np.all(img_remove_axes == (150., 100., 225.), axis=-1)] = (0,0,0)\n",
        "\n",
        "process_and_show(img) ### dashed lines are removed (although the left dashed lines is still partially there), but axes stays\n",
        "process_and_show(img_remove_axes) ### axes removed, dashed lines removed, but some of the small peaks are also removed!"
      ],
      "execution_count": null,
      "outputs": [
        {
          "output_type": "display_data",
          "data": {
            "image/png": "[encoded data removed]",
            "text/plain": [
              "<Figure size 432x288 with 1 Axes>"
            ]
          },
          "metadata": {
            "tags": [],
            "needs_background": "light"
          }
        },
        {
          "output_type": "display_data",
          "data": {
            "image/png": "[encoded data removed]",
            "text/plain": [
              "<PIL.Image.Image image mode=L size=280x109 at 0x7F9952D2AE10>"
            ]
          },
          "metadata": {
            "tags": []
          }
        },
        {
          "output_type": "display_data",
          "data": {
            "image/png": "[encoded data removed]",
            "text/plain": [
              "<PIL.Image.Image image mode=L size=280x109 at 0x7F9952876CF8>"
            ]
          },
          "metadata": {
            "tags": []
          }
        }
      ]
    },
    {
      "cell_type": "code",
      "metadata": {
        "id": "JNX5LzA1ybxZ",
        "colab": {
          "base_uri": "https://localhost:8080/",
          "height": 126
        },
        "outputId": "7d0ccff0-3c20-426e-894d-eff4bd83806f"
      },
      "source": [
        "### Second plot above is already pretty close.. \n",
        "### Let's remove the axes using the index of pink pixels in the numpy array\n",
        "\n",
        "import cv2\n",
        "import numpy as np\n",
        "from google.colab.patches import cv2_imshow\n",
        "\n",
        "img = cv2.imread('SzocE.png')\n",
        "img_remove_axes = img.copy()\n",
        "\n",
        "gray = cv2.cvtColor(img,cv2.COLOR_RGB2GRAY)\n",
        "ret,gray = cv2.threshold(gray,127,255,0)\n",
        "gray2 = gray.copy()\n",
        "\n",
        "contours, hier = cv2.findContours(gray,cv2.RETR_LIST,cv2.CHAIN_APPROX_SIMPLE)\n",
        "for cnt in contours:\n",
        "  if not 200<cv2.contourArea(cnt)<5000:\n",
        "    (x,y,w,h) = cv2.boundingRect(cnt)\n",
        "    cv2.rectangle(gray2,(x,y),(x+w,y+h),0,-1)\n",
        "\n",
        "gray2 = cv2.cvtColor(gray2,cv2.COLOR_GRAY2RGB)\n",
        "gray2[np.all(img_remove_axes == (150., 100., 225.), axis=-1)] = (0,0,0)\n",
        "\n",
        "cv2_imshow(gray2)\n",
        "cv2.waitKey(0)\n",
        "cv2.destroyAllWindows()"
      ],
      "execution_count": null,
      "outputs": [
        {
          "output_type": "display_data",
          "data": {
            "image/png": "[encoded data removed]",
            "text/plain": [
              "<PIL.Image.Image image mode=RGB size=280x109 at 0x7FE9A60B80B8>"
            ]
          },
          "metadata": {
            "tags": []
          }
        }
      ]
    },
    {
      "cell_type": "markdown",
      "metadata": {
        "id": "PYqF5YG03b5l"
      },
      "source": [
        "There are other ways of doing the same thing. Let's have a look."
      ]
    },
    {
      "cell_type": "code",
      "metadata": {
        "id": "fn0lulSbUZRW"
      },
      "source": [
        "!pip install extcolors"
      ],
      "execution_count": null,
      "outputs": []
    },
    {
      "cell_type": "code",
      "metadata": {
        "id": "56hQ8y5G74Ue"
      },
      "source": [
        "import glob\n",
        "import ntpath\n",
        "import cv2\n",
        "import numpy as np\n",
        "import matplotlib.pyplot as plt\n",
        "from google.colab.patches import cv2_imshow\n",
        "from PIL import Image\n",
        "import extcolors\n",
        "import pandas as pd \n",
        "\n",
        "def process_image(imgpath):\n",
        "  \"\"\"Measure the area under the curve as the proportion of white to black pixels\n",
        "  \n",
        "  Args:\n",
        "    imgpath (str): Path to the image file to be processed\n",
        "  \n",
        "  Returns:\n",
        "    dict: A dictionary containing filename and peak areas\n",
        "  \n",
        "  \"\"\"\n",
        "\n",
        "  img_unprocessed = cv2.imread(imgpath)\n",
        "  img = img_unprocessed.copy()\n",
        "  img = img[24:137,:] ### crop the extra parts of the image out\n",
        "  img_remove_axes = img.copy()\n",
        "\n",
        "  gray = cv2.cvtColor(img,cv2.COLOR_RGB2GRAY)\n",
        "  ret,gray = cv2.threshold(gray,127,255,0)\n",
        "  gray2 = gray.copy()\n",
        "  contours, hier = cv2.findContours(gray,cv2.RETR_LIST,cv2.CHAIN_APPROX_SIMPLE)\n",
        "  for cnt in contours:\n",
        "    if not 200<cv2.contourArea(cnt)<5000:\n",
        "      (x,y,w,h) = cv2.boundingRect(cnt)\n",
        "      cv2.rectangle(gray2,(x,y),(x+w,y+h),0,-1)\n",
        "\n",
        "  gray2 = cv2.cvtColor(gray2,cv2.COLOR_GRAY2RGB)\n",
        "  gray2[np.all(img_remove_axes == (150., 100., 225.), axis=-1)] = (0,0,0)\n",
        "  \n",
        "  fig, axes = plt.subplots(nrows=1, ncols=2, figsize=(10, 8))\n",
        "  axes[1].imshow(gray2)\n",
        "  axes[0].imshow(cv2.cvtColor(img_unprocessed,cv2.COLOR_BGR2RGB))\n",
        "  fig.tight_layout()\n",
        "\n",
        "  !mkdir -p processtmp\n",
        "  imsample = Image.fromarray(gray2)\n",
        "  imsample.save('./processtmp/tmpFile.png')\n",
        "\n",
        "  colors, pixel_count = extcolors.extract(\"./processtmp/tmpFile.png\")\n",
        "  colors_dict = dict(colors)\n",
        "  color_stat = {key:str(round((val/pixel_count)*100,2))+\"%\" for (key, val) in \n",
        "                colors_dict.items()}\n",
        "  resterminal = !extcolors ./processtmp/tmpFile.png\n",
        "  resstr = str(resterminal).split()\n",
        "  resstr = [s for s in resstr if \"%\" in s]\n",
        "  \n",
        "  reskeys = [\"Filename\", \"Date\", \"Total per Color\", \"Percentage\", \"extcolors\"]\n",
        "  resvalues = [ntpath.basename(imgpath),\n",
        "               ntpath.basename(ntpath.dirname(imgpath)),\n",
        "               Image.open('/content/processtmp/tmpFile.png').getcolors(),\n",
        "               color_stat,\n",
        "               resstr]\n",
        "\n",
        "  resdict = dict(zip(reskeys, resvalues))\n",
        "  return resdict"
      ],
      "execution_count": null,
      "outputs": []
    },
    {
      "cell_type": "code",
      "metadata": {
        "id": "9w5Jyr9why72"
      },
      "source": [
        "all_images = glob.glob(\"/content/drive/My Drive/PE_Images/*/*\", recursive=True)\n",
        "\n",
        "processedImages = []\n",
        "for idx, i in enumerate(all_images):\n",
        "  processedImages.append(process_image(i))"
      ],
      "execution_count": null,
      "outputs": []
    },
    {
      "cell_type": "code",
      "metadata": {
        "id": "XKe42SBp9Uje"
      },
      "source": [
        "import glob\n",
        "import ntpath\n",
        "import cv2\n",
        "import numpy as np\n",
        "import matplotlib.pyplot as plt\n",
        "from google.colab.patches import cv2_imshow\n",
        "from PIL import Image\n",
        "import extcolors\n",
        "import pandas as pd \n",
        "\n",
        "def process_different_image(imgpath):\n",
        "  \"\"\"Measure the area under the curve as the proportion of white to black pixels\n",
        "  \n",
        "  Args:\n",
        "    imgpath (str): Path to the image file to be processed\n",
        "  \n",
        "  Returns:\n",
        "    dict: A dictionary containing filename and peak areas\n",
        "  \n",
        "  \"\"\"\n",
        "\n",
        "  img_unprocessed = cv2.imread(imgpath)\n",
        "  img = img_unprocessed.copy()\n",
        "  img = img[24:137,:]\n",
        "  img_remove_axes = img.copy()\n",
        "\n",
        "  gray = cv2.cvtColor(img,cv2.COLOR_RGB2GRAY)\n",
        "  ret,gray = cv2.threshold(gray,127,255,0)\n",
        "  gray2 = gray.copy()\n",
        "  contours, hier = cv2.findContours(gray,cv2.RETR_LIST,cv2.CHAIN_APPROX_SIMPLE)\n",
        "  for cnt in contours:\n",
        "    if 200<cv2.contourArea(cnt)<5000:\n",
        "      (x,y,w,h) = cv2.boundingRect(cnt)\n",
        "      cv2.rectangle(gray2,(x,y),(x+w,y+h),0,-1)\n",
        "\n",
        "  gray2 = cv2.cvtColor(gray2,cv2.COLOR_GRAY2RGB)\n",
        "  gray2[np.all(img_remove_axes == (150., 100., 225.), axis=-1)] = (0,0,0)\n",
        "  \n",
        "  fig, axes = plt.subplots(nrows=1, ncols=2, figsize=(10, 8))\n",
        "  axes[1].imshow(gray2)\n",
        "  axes[0].imshow(cv2.cvtColor(img_unprocessed,cv2.COLOR_BGR2RGB))\n",
        "  fig.tight_layout()\n",
        "\n",
        "  !mkdir -p processtmp\n",
        "  imsample = Image.fromarray(gray2)\n",
        "  imsample.save('./processtmp/tmpFile.png')\n",
        "\n",
        "  colors, pixel_count = extcolors.extract(\"./processtmp/tmpFile.png\")\n",
        "  colors_dict = dict(colors)\n",
        "  color_stat = {key:str(round((val/pixel_count)*100,2))+\"%\" for (key, val) in \n",
        "                colors_dict.items()}\n",
        "  resterminal = !extcolors ./processtmp/tmpFile.png\n",
        "  resstr = str(resterminal).split()\n",
        "  resstr = [s for s in resstr if \"%\" in s]\n",
        "  \n",
        "  reskeys = [\"Filename\", \"Date\", \"Total per Color\", \"Percentage\", \"extcolors\"]\n",
        "  resvalues = [ntpath.basename(imgpath),\n",
        "               ntpath.basename(ntpath.dirname(imgpath)),\n",
        "               Image.open('/content/processtmp/tmpFile.png').getcolors(),\n",
        "               color_stat,\n",
        "               resstr]\n",
        "\n",
        "  resdict = dict(zip(reskeys, resvalues))\n",
        "  return resdict"
      ],
      "execution_count": null,
      "outputs": []
    },
    {
      "cell_type": "code",
      "metadata": {
        "id": "krFe0CwL7yP8",
        "colab": {
          "base_uri": "https://localhost:8080/",
          "height": 318
        },
        "outputId": "77408279-ef8a-499b-d45b-f0c863ee0db1"
      },
      "source": [
        "process_different_image(\"/content/drive/My Drive/PE_Images/25.5.2020/20200525113102_AH X-I9929_WBC.bmp\")"
      ],
      "execution_count": null,
      "outputs": [
        {
          "output_type": "execute_result",
          "data": {
            "text/plain": [
              "{'Date': '25.5.2020',\n",
              " 'Filename': '20200525113102_AH X-I9929_WBC.bmp',\n",
              " 'Percentage': {(1, 1, 1): '83.37%', (255, 255, 255): '16.63%'},\n",
              " 'Total per Color': [(5262, (255, 255, 255)), (26378, (0, 0, 0))],\n",
              " 'extcolors': ['83.37%', '16.63%']}"
            ]
          },
          "metadata": {
            "tags": []
          },
          "execution_count": 12
        },
        {
          "output_type": "display_data",
          "data": {
            "image/png": "[encoded data removed]",
            "text/plain": [
              "<Figure size 720x576 with 2 Axes>"
            ]
          },
          "metadata": {
            "tags": [],
            "needs_background": "light"
          }
        }
      ]
    },
    {
      "cell_type": "code",
      "metadata": {
        "id": "MkOtvbBv8pi4",
        "colab": {
          "base_uri": "https://localhost:8080/",
          "height": 318
        },
        "outputId": "cabe1fb5-6892-4c0c-dfc3-c22e467d64ba"
      },
      "source": [
        "process_different_image(\"/content/drive/My Drive/PE_Images/4.6.2020/20200604095002_AH X83S-I9962_WBC.bmp\")"
      ],
      "execution_count": null,
      "outputs": [
        {
          "output_type": "execute_result",
          "data": {
            "text/plain": [
              "{'Date': '4.6.2020',\n",
              " 'Filename': '20200604095002_AH X83S-I9962_WBC.bmp',\n",
              " 'Percentage': {(1, 1, 1): '82.66%', (255, 255, 255): '17.34%'},\n",
              " 'Total per Color': [(5486, (255, 255, 255)), (26154, (0, 0, 0))],\n",
              " 'extcolors': ['82.66%', '17.34%']}"
            ]
          },
          "metadata": {
            "tags": []
          },
          "execution_count": 13
        },
        {
          "output_type": "display_data",
          "data": {
            "image/png": "[encoded data removed]",
            "text/plain": [
              "<Figure size 720x576 with 2 Axes>"
            ]
          },
          "metadata": {
            "tags": [],
            "needs_background": "light"
          }
        }
      ]
    },
    {
      "cell_type": "code",
      "metadata": {
        "id": "Yd-XmFpx9Gi1",
        "colab": {
          "base_uri": "https://localhost:8080/",
          "height": 318
        },
        "outputId": "d1fa23dd-b0df-4fd7-8ab3-ec3dee34e5dd"
      },
      "source": [
        "process_different_image(\"/content/drive/My Drive/PE_Images/21.5.2020/20200521103347_AH X83S-L5006_WBC.bmp\")"
      ],
      "execution_count": null,
      "outputs": [
        {
          "output_type": "execute_result",
          "data": {
            "text/plain": [
              "{'Date': '21.5.2020',\n",
              " 'Filename': '20200521103347_AH X83S-L5006_WBC.bmp',\n",
              " 'Percentage': {(1, 1, 1): '83.44%', (255, 255, 255): '16.56%'},\n",
              " 'Total per Color': [(5240, (255, 255, 255)), (26400, (0, 0, 0))],\n",
              " 'extcolors': ['83.44%', '16.56%']}"
            ]
          },
          "metadata": {
            "tags": []
          },
          "execution_count": 14
        },
        {
          "output_type": "display_data",
          "data": {
            "image/png": "[encoded data removed]",
            "text/plain": [
              "<Figure size 720x576 with 2 Axes>"
            ]
          },
          "metadata": {
            "tags": [],
            "needs_background": "light"
          }
        }
      ]
    },
    {
      "cell_type": "code",
      "metadata": {
        "id": "LlQwM9DmtXK9"
      },
      "source": [
        "dfproc = pd.DataFrame(processedImages)"
      ],
      "execution_count": null,
      "outputs": []
    },
    {
      "cell_type": "code",
      "metadata": {
        "id": "mk7RvJ5xtxJ4"
      },
      "source": [
        "dfproc.to_csv(\"/content/drive/My Drive/PE_Images/dfproc.csv\")"
      ],
      "execution_count": null,
      "outputs": []
    },
    {
      "cell_type": "code",
      "metadata": {
        "id": "X4cfID6Ak2Y0",
        "colab": {
          "base_uri": "https://localhost:8080/",
          "height": 345
        },
        "outputId": "275daac6-bab4-4745-a38e-590dd542cbda"
      },
      "source": [
        "#### Another approach that doesn't work as well\n",
        "\n",
        "import cv2\n",
        "import numpy as np\n",
        "from google.colab.patches import cv2_imshow\n",
        "\n",
        "def process_morph(imgPath):\n",
        "  img = cv2.imread(imgPath)\n",
        "  img = img[24:137,:]\n",
        "  img_remove_axes = img.copy()\n",
        "  img_remove_axes[np.all(img_remove_axes == (150., 100., 225.), axis=-1)] = (0,0,0)\n",
        "  gray = cv2.cvtColor(img_remove_axes,cv2.COLOR_RGB2GRAY)\n",
        "  \n",
        "  kernel = cv2.getStructuringElement(cv2.MORPH_RECT, (3, 1))\n",
        "  morph_img = cv2.morphologyEx(gray, cv2.MORPH_OPEN, kernel)\n",
        "  out = cv2.bitwise_xor(morph_img, gray)\n",
        "  \n",
        "  imsample = Image.fromarray(morph_img)\n",
        "  imsample.save('tmpMorph.png')\n",
        "  !extcolors ./tmpMorph.png\n",
        "  resterminal = !extcolors ./tmpMorph.png\n",
        "  resstr = str(resterminal).split()\n",
        "  resstr = [s for s in resstr if \"%\" in s]\n",
        "  \n",
        "  print(resstr)\n",
        "  \n",
        "  cv2_imshow(morph_img)\n",
        "  cv2_imshow(out)\n",
        "\n",
        "process_morph(\"/content/drive/My Drive/PE_Images/18.03.2020/20200318105001_83S-I9238_WBC.bmp\")"
      ],
      "execution_count": null,
      "outputs": [
        {
          "output_type": "stream",
          "text": [
            "Extracted colors:\n",
            "(1, 1, 1)      :  89.87% (28434)\n",
            "(255, 255, 255):  10.13% (3206)\n",
            "\n",
            "Pixels in output: 31640 of 31640\n",
            "['89.87%', '10.13%']\n"
          ],
          "name": "stdout"
        },
        {
          "output_type": "display_data",
          "data": {
            "image/png": "[encoded data removed]",
            "text/plain": [
              "<PIL.Image.Image image mode=L size=280x113 at 0x7F9961FAC828>"
            ]
          },
          "metadata": {
            "tags": []
          }
        },
        {
          "output_type": "display_data",
          "data": {
            "image/png": "[encoded data removed]",
            "text/plain": [
              "<PIL.Image.Image image mode=L size=280x113 at 0x7F9961FAC3C8>"
            ]
          },
          "metadata": {
            "tags": []
          }
        }
      ]
    },
    {
      "cell_type": "code",
      "metadata": {
        "id": "C40G15JM5iiB",
        "colab": {
          "base_uri": "https://localhost:8080/",
          "height": 663
        },
        "outputId": "80c68572-aaa8-4b7e-cb5b-7f351c24c667"
      },
      "source": [
        "#### Compare the last two approaches\n",
        "\n",
        "samplePath = \"/content/drive/My Drive/PE_Images/18.03.2020/20200318105001_83S-I9238_WBC.bmp\"\n",
        "\n",
        "print(\"cv2.findContours method:\\n\")\n",
        "print(process_image(samplePath))\n",
        "print(\"\\ncv2.morphologyEx method: \\n\")\n",
        "process_morph(samplePath)"
      ],
      "execution_count": null,
      "outputs": [
        {
          "output_type": "stream",
          "text": [
            "cv2.findContours \n",
            "\n",
            "{'Filename': '20200318105001_83S-I9238_WBC.bmp', 'Total per Color': [(3229, (255, 255, 255)), (28411, (0, 0, 0))], 'Percentage': {(1, 1, 1): '89.79%', (255, 255, 255): '10.21%'}, 'extcolors': ['89.79%', '10.21%']}\n",
            "\n",
            "cv2.morphologyEx \n",
            "\n",
            "Extracted colors:\n",
            "(1, 1, 1)      :  89.87% (28434)\n",
            "(255, 255, 255):  10.13% (3206)\n",
            "\n",
            "Pixels in output: 31640 of 31640\n",
            "['89.87%', '10.13%']\n"
          ],
          "name": "stdout"
        },
        {
          "output_type": "display_data",
          "data": {
            "image/png": "[encoded data removed]",
            "text/plain": [
              "<PIL.Image.Image image mode=L size=280x113 at 0x7F995078B0B8>"
            ]
          },
          "metadata": {
            "tags": []
          }
        },
        {
          "output_type": "display_data",
          "data": {
            "image/png": "[encoded data removed]",
            "text/plain": [
              "<PIL.Image.Image image mode=L size=280x113 at 0x7F995079C358>"
            ]
          },
          "metadata": {
            "tags": []
          }
        },
        {
          "output_type": "display_data",
          "data": {
            "image/png": "[encoded data removed]",
            "text/plain": [
              "<Figure size 720x576 with 2 Axes>"
            ]
          },
          "metadata": {
            "tags": [],
            "needs_background": "light"
          }
        }
      ]
    },
    {
      "cell_type": "markdown",
      "metadata": {
        "id": "BFRy0ue65eyR"
      },
      "source": [
        "That's it! Everything else below is mostly part of the playground for this project or alternate approaches that don't work as well.\r\n",
        "\r\n"
      ]
    },
    {
      "cell_type": "code",
      "metadata": {
        "id": "kkp4KQLc-s3Q",
        "colab": {
          "base_uri": "https://localhost:8080/",
          "height": 233
        },
        "outputId": "dea2f612-4397-41bc-b8f5-94db168650a7"
      },
      "source": [
        "#### Edge detection ####\n",
        "\n",
        "from skimage import color\n",
        "from skimage.filters import sobel\n",
        "import matplotlib.pyplot as plt\n",
        "\n",
        "def show_image(image, title='Image', cmap_type='gray'):\n",
        "  plt.imshow(image, cmap=cmap_type)\n",
        "  plt.title(title)\n",
        "  plt.axis('off')\n",
        "  plt.show()\n",
        "\n",
        "def show_subimage(image, sobel, title='Image', cmap_type='gray'):\n",
        "  fig, axes = plt.subplots(nrows=1, ncols=2, figsize=(10, 8))\n",
        "  axes[0].imshow(image, cmap=cmap_type)\n",
        "  axes[1].imshow(sobel, cmap=cmap_type)\n",
        "  fig.tight_layout()\n",
        "\n",
        "test_image = plt.imread(\"/content/drive/My Drive/PE_Images/18.03.2020/20200318104226_83S-I9926_WBC.bmp\")\n",
        "\n",
        "# Convert the image to grayscale\n",
        "test_image_gray = color.rgb2gray(test_image)\n",
        "\n",
        "# Apply edge detection filter\n",
        "edge_sobel = sobel(test_image_gray)\n",
        "\n",
        "# Show the original and the resulting image\n",
        "#show_image(test_image, \"Original\")\n",
        "#show_image(edge_sobel, \"Edges with Sobel\")\n",
        "\n",
        "show_subimage(test_image, edge_sobel)"
      ],
      "execution_count": null,
      "outputs": [
        {
          "output_type": "display_data",
          "data": {
            "image/png": "[encoded data removed]",
            "text/plain": [
              "<Figure size 720x576 with 2 Axes>"
            ]
          },
          "metadata": {
            "tags": [],
            "needs_background": "light"
          }
        }
      ]
    },
    {
      "cell_type": "code",
      "metadata": {
        "id": "jsTYVWLuEGmE",
        "colab": {
          "base_uri": "https://localhost:8080/",
          "height": 442
        },
        "outputId": "81954492-c801-4558-9b76-dbf044478aa6"
      },
      "source": [
        "from sklearn.cluster import KMeans\n",
        "import matplotlib.pyplot as plt\n",
        "import numpy as np\n",
        "import cv2\n",
        "from collections import Counter\n",
        "from skimage.color import rgb2lab, deltaE_cie76\n",
        "import os\n",
        "\n",
        "%matplotlib inline\n",
        "\n",
        "def RGB2HEX(color):\n",
        "    return \"#{:02x}{:02x}{:02x}\".format(int(color[0]), int(color[1]), int(color[2]))\n",
        "\n",
        "def get_image(image_path):\n",
        "    image = cv2.imread(image_path)\n",
        "    image = cv2.cvtColor(image, cv2.COLOR_BGR2RGB)\n",
        "    return image\n",
        "\n",
        "def get_colors(image, number_of_colors, show_chart=True):\n",
        "    modified_image = image.copy()\n",
        "    #modified_image = cv2.resize(image, (600, 400), interpolation = cv2.INTER_AREA)\n",
        "    modified_image = modified_image.reshape(modified_image.shape[0]*modified_image.shape[1], 3)\n",
        "    \n",
        "    clf = KMeans(n_clusters = number_of_colors)\n",
        "    labels = clf.fit_predict(modified_image)\n",
        "    \n",
        "    counts = Counter(labels)\n",
        "    # sort to ensure correct color percentage\n",
        "    counts = dict(sorted(counts.items()))\n",
        "    \n",
        "    center_colors = clf.cluster_centers_\n",
        "    # We get ordered colors by iterating through the keys\n",
        "    ordered_colors = [center_colors[i] for i in counts.keys()]\n",
        "    hex_colors = [RGB2HEX(ordered_colors[i]) for i in counts.keys()]\n",
        "    rgb_colors = [ordered_colors[i] for i in counts.keys()]\n",
        "    rgb_colors_list = np.array(rgb_colors).tolist()\n",
        "\n",
        "    if (show_chart):\n",
        "        plt.figure(figsize = (8, 6))\n",
        "        plt.pie(counts.values(), labels = hex_colors, colors = hex_colors, textprops={'color':\"w\"})\n",
        "    \n",
        "    return dict(zip(hex_colors,rgb_colors_list))\n",
        "\n",
        "get_colors(get_image(\"/content/drive/My Drive/PE_Images/18.03.2020/20200318104226_83S-I9926_WBC.bmp\"), 3, True)"
      ],
      "execution_count": null,
      "outputs": [
        {
          "output_type": "execute_result",
          "data": {
            "text/plain": [
              "{'#000000': [-1.1652900866465643e-11,\n",
              "  1.5777601447553025e-11,\n",
              "  1.1318945780658396e-11],\n",
              " '#e16395': [225.00000000000074, 99.99999999999952, 149.99999999999926],\n",
              " '#feffff': [254.99999999999045, 255.00000000001478, 255.0000000000112]}"
            ]
          },
          "metadata": {
            "tags": []
          },
          "execution_count": 3
        },
        {
          "output_type": "display_data",
          "data": {
            "image/png": "[encoded data removed]",
            "text/plain": [
              "<Figure size 576x432 with 1 Axes>"
            ]
          },
          "metadata": {
            "tags": []
          }
        }
      ]
    },
    {
      "cell_type": "code",
      "metadata": {
        "id": "oWkqc4spGopu",
        "colab": {
          "base_uri": "https://localhost:8080/",
          "height": 459
        },
        "outputId": "2c06c43c-d4d2-49ce-9598-521442760734"
      },
      "source": [
        "from skimage import color, measure, filters, io\n",
        "\n",
        "def show_image_contour(image, contours):\n",
        "    plt.figure()\n",
        "    \n",
        "    for n, contour in enumerate(contours):\n",
        "        plt.plot(contour[:, 1], contour[:, 0], linewidth=3)\n",
        "        plt.imshow(image, interpolation='nearest', cmap='gray_r')\n",
        "        plt.title('Contours')\n",
        "        plt.axis('off')\n",
        "        plt.show()\n",
        "\n",
        "sample_test_image = io.imread('/content/drive/My Drive/PE_Images/18.03.2020/20200318104442_83S-I9928_WBC.bmp')\n",
        "\n",
        "# Convert the image to grayscale\n",
        "sample_test_image = color.rgb2gray(sample_test_image)\n",
        "\n",
        "# Obtain the optimal thresh value\n",
        "thresh = filters.threshold_otsu(sample_test_image)\n",
        "\n",
        "# Apply thresholding\n",
        "binary = sample_test_image > thresh\n",
        "\n",
        "# Find contours at a constant value\n",
        "contours = measure.find_contours(binary, 0.8)\n",
        "\n",
        "# Show the image\n",
        "show_image_contour(sample_test_image, contours[0:2])"
      ],
      "execution_count": null,
      "outputs": [
        {
          "output_type": "display_data",
          "data": {
            "image/png": "[encoded data removed]",
            "text/plain": [
              "<Figure size 432x288 with 1 Axes>"
            ]
          },
          "metadata": {
            "tags": [],
            "needs_background": "light"
          }
        },
        {
          "output_type": "display_data",
          "data": {
            "image/png": "[encoded data removed]",
            "text/plain": [
              "<Figure size 432x288 with 1 Axes>"
            ]
          },
          "metadata": {
            "tags": [],
            "needs_background": "light"
          }
        }
      ]
    },
    {
      "cell_type": "code",
      "metadata": {
        "id": "foI9SH_5IqPE",
        "colab": {
          "base_uri": "https://localhost:8080/",
          "height": 238
        },
        "outputId": "7fdc0a7e-4e28-4412-9081-0a7561c499ec"
      },
      "source": [
        "plt.figure()\n",
        "rcontour = contours[14]\n",
        "plt.plot(rcontour[:, 1], rcontour[:, 0], linewidth=3)\n",
        "plt.imshow(sample_test_image, interpolation='nearest', cmap='gray_r')\n",
        "plt.title('Contours')\n",
        "plt.axis('off')\n",
        "plt.show()"
      ],
      "execution_count": null,
      "outputs": [
        {
          "output_type": "display_data",
          "data": {
            "image/png": "[encoded data removed]",
            "text/plain": [
              "<Figure size 432x288 with 1 Axes>"
            ]
          },
          "metadata": {
            "tags": [],
            "needs_background": "light"
          }
        }
      ]
    },
    {
      "cell_type": "code",
      "metadata": {
        "id": "PvDepIhmC8Ve",
        "colab": {
          "base_uri": "https://localhost:8080/",
          "height": 177
        },
        "outputId": "0dc4fc76-4db3-4994-9f59-84e2561531c7"
      },
      "source": [
        "import cv2\n",
        "import numpy as np\n",
        "from google.colab.patches import cv2_imshow\n",
        "\n",
        "img = cv2.imread('/content/drive/My Drive/PE_Images/18.03.2020/20200318104442_83S-I9928_WBC.bmp')\n",
        "gray = cv2.cvtColor(img,cv2.COLOR_RGB2GRAY)\n",
        "ret,gray = cv2.threshold(gray,127,255,0)\n",
        "gray2 = gray.copy()\n",
        "\n",
        "contours, hier = cv2.findContours(gray,cv2.RETR_LIST,cv2.CHAIN_APPROX_SIMPLE)\n",
        "for cnt in contours:\n",
        "    if not 200<cv2.contourArea(cnt)<5000:\n",
        "        (x,y,w,h) = cv2.boundingRect(cnt)\n",
        "        cv2.rectangle(gray2,(x,y),(x+w,y+h),0,-1)\n",
        "\n",
        "cv2_imshow(gray2)\n",
        "cv2.waitKey(0)\n",
        "cv2.destroyAllWindows()"
      ],
      "execution_count": null,
      "outputs": [
        {
          "output_type": "display_data",
          "data": {
            "image/png": "[encoded data removed]",
            "text/plain": [
              "<PIL.Image.Image image mode=L size=280x160 at 0x7FE99DBC5198>"
            ]
          },
          "metadata": {
            "tags": []
          }
        }
      ]
    },
    {
      "cell_type": "code",
      "metadata": {
        "id": "iQNin1IqUopP",
        "colab": {
          "base_uri": "https://localhost:8080/",
          "height": 354
        },
        "outputId": "d8ba66f3-a620-4a8a-f695-e113ce528804"
      },
      "source": [
        "import cv2\n",
        "import numpy as np\n",
        "from google.colab.patches import cv2_imshow\n",
        "\n",
        "gray2 = 0\n",
        "sampleIMG = cv2.imread(\"/content/drive/My Drive/PE_Images/18.03.2020/20200318104442_83S-I9928_WBC.bmp\",cv2.COLOR_BGR2RGB)\n",
        "print(type(sampleIMG))\n",
        "\n",
        "sampleIMG[np.all(sampleIMG == (150., 100., 225.), axis=-1)] = (0,0,0)\n",
        "\n",
        "gray = cv2.cvtColor(sampleIMG,cv2.COLOR_RGB2GRAY)\n",
        "ret,gray = cv2.threshold(gray,127,255,0)\n",
        "gray2 = gray.copy()\n",
        "\n",
        "cv2_imshow(gray2)\n",
        "\n",
        "contours, hier = cv2.findContours(gray,cv2.RETR_LIST,cv2.CHAIN_APPROX_SIMPLE)\n",
        "for cnt in contours:\n",
        "  if not 200<cv2.contourArea(cnt)<5000:\n",
        "    (x,y,w,h) = cv2.boundingRect(cnt)\n",
        "    cv2.rectangle(gray2,(x,y),(x+w,y+h),0,-1)\n",
        "\n",
        "cv2_imshow(gray2)"
      ],
      "execution_count": null,
      "outputs": [
        {
          "output_type": "stream",
          "text": [
            "<class 'numpy.ndarray'>\n"
          ],
          "name": "stdout"
        },
        {
          "output_type": "display_data",
          "data": {
            "image/png": "[encoded data removed]",
            "text/plain": [
              "<PIL.Image.Image image mode=L size=280x160 at 0x7FE99DBD90B8>"
            ]
          },
          "metadata": {
            "tags": []
          }
        },
        {
          "output_type": "display_data",
          "data": {
            "image/png": "[encoded data removed]",
            "text/plain": [
              "<PIL.Image.Image image mode=L size=280x160 at 0x7FE99DBD90B8>"
            ]
          },
          "metadata": {
            "tags": []
          }
        }
      ]
    }
  ]
}